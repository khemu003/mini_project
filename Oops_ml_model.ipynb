{
 "cells": [
  {
   "cell_type": "code",
   "execution_count": 1,
   "id": "ac203a26-1e36-4114-bcab-1450d624e7c1",
   "metadata": {},
   "outputs": [],
   "source": [
    "class Ml_model:\n",
    "\n",
    "    def __init__(self):\n",
    "        self.df = None\n",
    "        self.x_train = None\n",
    "        self.x_test = None\n",
    "        self.y_train = None\n",
    "        self.y_test = None\n",
    "        self.x_train_new = None\n",
    "        self.x_test_new = None\n",
    "        self.y_pred = None\n",
    "\n",
    "    def data_read(self, path):\n",
    "        import pandas as pd\n",
    "        self.df = pd.read_csv(path)\n",
    "        return self.df.head(3)\n",
    "\n",
    "    def handling_missing_value(self):\n",
    "        missing_dtype = []\n",
    "        for i in self.df.columns:\n",
    "            missing = self.df[i].isnull().sum()\n",
    "            if missing>0:\n",
    "                missing_dtype.append(i)\n",
    "        from sklearn.impute import SimpleImputer\n",
    "        for i in missing_dtype:\n",
    "            if i in self.df.columns:\n",
    "                from sklearn.impute import SimpleImputer\n",
    "                si = SimpleImputer(strategy=\"mean\")\n",
    "                self.df[i] = si.fit_transform(self.df[[i]])\n",
    "        return self.df.empty\n",
    "\n",
    "    def Encoder(self):\n",
    "        object_list = []\n",
    "        for i in self.df.select_dtypes(include = [\"object\"]).columns:\n",
    "            object_list.append(i)\n",
    "        from sklearn.preprocessing import LabelEncoder\n",
    "        le = LabelEncoder()\n",
    "        for i in object_list:\n",
    "            self.df[i] = le.fit_transform(self.df[i])\n",
    "        return self.df.head(3)\n",
    "\n",
    "    def train_test_split(self, target_col):\n",
    "        from sklearn.model_selection import train_test_split\n",
    "        x = self.df.drop(columns = [target_col])\n",
    "        y = self.df[target_col]\n",
    "        self.x_train, self.x_test, self.y_train, self.y_test = train_test_split(x, y, test_size=0.2, random_state=42) \n",
    "\n",
    "    def StandardScaler(self):\n",
    "        from sklearn.preprocessing import StandardScaler\n",
    "        sc = StandardScaler()\n",
    "        self.x_train_new = sc.fit_transform(self.x_train)\n",
    "        self.x_test_new = sc.transform(self.x_test)\n",
    "\n",
    "    def model_use(self):\n",
    "        from sklearn.naive_bayes import GaussianNB, MultinomialNB, BernoulliNB\n",
    "        classifier = GaussianNB()\n",
    "        classifier.fit(self.x_train_new, self.y_train)\n",
    "        self.y_pred = classifier.predict(self.x_test_new)\n",
    "        return self.y_pred     \n",
    "    \n",
    "    def metrics(self):\n",
    "        print(\"1. confusion matrix\\n2. accuracy score\\n3. precision score\\n4. recall score\")\n",
    "        number = int(input(\"Enter the number of metrics : \"))\n",
    "        if number==1:\n",
    "            from sklearn.metrics import confusion_matrix\n",
    "            return confusion_matrix(self.y_test, self.y_pred)\n",
    "        elif number==2:\n",
    "            from sklearn.metrics import accuracy_score\n",
    "            return accuracy_score(self.y_test, self.y_pred)\n",
    "        elif number==3:\n",
    "            from sklearn.metrics import precision_score\n",
    "            return precision_score(self.y_test, self.y_pred)\n",
    "        elif number==4:\n",
    "            from sklearn.metrics import recall_score\n",
    "            return recall_score(self.y_test, self.y_pred)\n"
   ]
  },
  {
   "cell_type": "code",
   "execution_count": 2,
   "id": "80344e82-f3f6-435f-9dd4-6844859763a3",
   "metadata": {},
   "outputs": [],
   "source": [
    "model = Ml_model()"
   ]
  },
  {
   "cell_type": "code",
   "execution_count": 3,
   "id": "ad2b9b29-45d0-4b5d-9ab1-357480be97fb",
   "metadata": {},
   "outputs": [
    {
     "data": {
      "text/html": [
       "<div>\n",
       "<style scoped>\n",
       "    .dataframe tbody tr th:only-of-type {\n",
       "        vertical-align: middle;\n",
       "    }\n",
       "\n",
       "    .dataframe tbody tr th {\n",
       "        vertical-align: top;\n",
       "    }\n",
       "\n",
       "    .dataframe thead th {\n",
       "        text-align: right;\n",
       "    }\n",
       "</style>\n",
       "<table border=\"1\" class=\"dataframe\">\n",
       "  <thead>\n",
       "    <tr style=\"text-align: right;\">\n",
       "      <th></th>\n",
       "      <th>age</th>\n",
       "      <th>gender</th>\n",
       "      <th>fever</th>\n",
       "      <th>cough</th>\n",
       "      <th>city</th>\n",
       "      <th>has_covid</th>\n",
       "    </tr>\n",
       "  </thead>\n",
       "  <tbody>\n",
       "    <tr>\n",
       "      <th>0</th>\n",
       "      <td>60</td>\n",
       "      <td>Male</td>\n",
       "      <td>103.0</td>\n",
       "      <td>Mild</td>\n",
       "      <td>Kolkata</td>\n",
       "      <td>No</td>\n",
       "    </tr>\n",
       "    <tr>\n",
       "      <th>1</th>\n",
       "      <td>27</td>\n",
       "      <td>Male</td>\n",
       "      <td>100.0</td>\n",
       "      <td>Mild</td>\n",
       "      <td>Delhi</td>\n",
       "      <td>Yes</td>\n",
       "    </tr>\n",
       "    <tr>\n",
       "      <th>2</th>\n",
       "      <td>42</td>\n",
       "      <td>Male</td>\n",
       "      <td>101.0</td>\n",
       "      <td>Mild</td>\n",
       "      <td>Delhi</td>\n",
       "      <td>No</td>\n",
       "    </tr>\n",
       "  </tbody>\n",
       "</table>\n",
       "</div>"
      ],
      "text/plain": [
       "   age gender  fever cough     city has_covid\n",
       "0   60   Male  103.0  Mild  Kolkata        No\n",
       "1   27   Male  100.0  Mild    Delhi       Yes\n",
       "2   42   Male  101.0  Mild    Delhi        No"
      ]
     },
     "execution_count": 3,
     "metadata": {},
     "output_type": "execute_result"
    }
   ],
   "source": [
    "model.data_read(\"D:\\\\DataSet\\\\covid_toy.csv\")"
   ]
  },
  {
   "cell_type": "code",
   "execution_count": 4,
   "id": "d6e07deb-30e1-4fcb-b04d-fe6abd74b22c",
   "metadata": {},
   "outputs": [
    {
     "data": {
      "text/plain": [
       "False"
      ]
     },
     "execution_count": 4,
     "metadata": {},
     "output_type": "execute_result"
    }
   ],
   "source": [
    "model.handling_missing_value()"
   ]
  },
  {
   "cell_type": "code",
   "execution_count": 5,
   "id": "79f37686-bb2b-4160-8f4e-8c94dbe6990b",
   "metadata": {},
   "outputs": [
    {
     "data": {
      "text/html": [
       "<div>\n",
       "<style scoped>\n",
       "    .dataframe tbody tr th:only-of-type {\n",
       "        vertical-align: middle;\n",
       "    }\n",
       "\n",
       "    .dataframe tbody tr th {\n",
       "        vertical-align: top;\n",
       "    }\n",
       "\n",
       "    .dataframe thead th {\n",
       "        text-align: right;\n",
       "    }\n",
       "</style>\n",
       "<table border=\"1\" class=\"dataframe\">\n",
       "  <thead>\n",
       "    <tr style=\"text-align: right;\">\n",
       "      <th></th>\n",
       "      <th>age</th>\n",
       "      <th>gender</th>\n",
       "      <th>fever</th>\n",
       "      <th>cough</th>\n",
       "      <th>city</th>\n",
       "      <th>has_covid</th>\n",
       "    </tr>\n",
       "  </thead>\n",
       "  <tbody>\n",
       "    <tr>\n",
       "      <th>0</th>\n",
       "      <td>60</td>\n",
       "      <td>1</td>\n",
       "      <td>103.0</td>\n",
       "      <td>0</td>\n",
       "      <td>2</td>\n",
       "      <td>0</td>\n",
       "    </tr>\n",
       "    <tr>\n",
       "      <th>1</th>\n",
       "      <td>27</td>\n",
       "      <td>1</td>\n",
       "      <td>100.0</td>\n",
       "      <td>0</td>\n",
       "      <td>1</td>\n",
       "      <td>1</td>\n",
       "    </tr>\n",
       "    <tr>\n",
       "      <th>2</th>\n",
       "      <td>42</td>\n",
       "      <td>1</td>\n",
       "      <td>101.0</td>\n",
       "      <td>0</td>\n",
       "      <td>1</td>\n",
       "      <td>0</td>\n",
       "    </tr>\n",
       "  </tbody>\n",
       "</table>\n",
       "</div>"
      ],
      "text/plain": [
       "   age  gender  fever  cough  city  has_covid\n",
       "0   60       1  103.0      0     2          0\n",
       "1   27       1  100.0      0     1          1\n",
       "2   42       1  101.0      0     1          0"
      ]
     },
     "execution_count": 5,
     "metadata": {},
     "output_type": "execute_result"
    }
   ],
   "source": [
    "model.Encoder()"
   ]
  },
  {
   "cell_type": "code",
   "execution_count": 6,
   "id": "2535d030-1a7f-420e-a6c4-70a73a8da78d",
   "metadata": {},
   "outputs": [],
   "source": [
    "model.train_test_split(\"has_covid\")"
   ]
  },
  {
   "cell_type": "code",
   "execution_count": 7,
   "id": "da46c1fa-e872-43f7-9b30-ab45a8e183ab",
   "metadata": {},
   "outputs": [],
   "source": [
    "model.StandardScaler()"
   ]
  },
  {
   "cell_type": "code",
   "execution_count": 8,
   "id": "0a4e142b-3500-4d3e-b4e8-438b0739f096",
   "metadata": {},
   "outputs": [
    {
     "data": {
      "text/plain": [
       "array([0, 1, 0, 1, 0, 0, 0, 1, 1, 0, 0, 1, 0, 1, 0, 1, 1, 1, 0, 0])"
      ]
     },
     "execution_count": 8,
     "metadata": {},
     "output_type": "execute_result"
    }
   ],
   "source": [
    "model.model_use()"
   ]
  },
  {
   "cell_type": "code",
   "execution_count": 9,
   "id": "c96eec36-df6c-401f-8e84-8b3faa3c8f83",
   "metadata": {},
   "outputs": [
    {
     "name": "stdout",
     "output_type": "stream",
     "text": [
      "1. confusion matrix\n",
      "2. accuracy score\n",
      "3. precision score\n",
      "4. recall score\n"
     ]
    },
    {
     "name": "stdin",
     "output_type": "stream",
     "text": [
      "Enter the number of metrics :  1\n"
     ]
    },
    {
     "data": {
      "text/plain": [
       "array([[8, 5],\n",
       "       [3, 4]], dtype=int64)"
      ]
     },
     "execution_count": 9,
     "metadata": {},
     "output_type": "execute_result"
    }
   ],
   "source": [
    "model.metrics()"
   ]
  },
  {
   "cell_type": "code",
   "execution_count": null,
   "id": "37b8b9a9-5f23-42e0-815d-c5747dbe2b07",
   "metadata": {},
   "outputs": [],
   "source": []
  },
  {
   "cell_type": "code",
   "execution_count": null,
   "id": "d8c461b7-61f7-4900-a229-6aeb852ec9c8",
   "metadata": {},
   "outputs": [],
   "source": []
  },
  {
   "cell_type": "code",
   "execution_count": 10,
   "id": "28a50838-6a1b-4df4-b40d-8d78a04a19bf",
   "metadata": {},
   "outputs": [],
   "source": [
    "import pickle as pkl"
   ]
  },
  {
   "cell_type": "code",
   "execution_count": 11,
   "id": "485d1d67-29d5-456f-96bc-80beb0c756e7",
   "metadata": {},
   "outputs": [],
   "source": [
    "with open(\"pkl_model.pkl\", \"wb\") as file:\n",
    "    pkl.dump(model, file)"
   ]
  },
  {
   "cell_type": "code",
   "execution_count": 12,
   "id": "7b6b72f8-b6fe-4bf2-9414-c226c535574c",
   "metadata": {},
   "outputs": [],
   "source": [
    "with open(\"pkl_model.pkl\", \"rb\") as file:\n",
    "    pkl_model = pkl.load(file)"
   ]
  },
  {
   "cell_type": "code",
   "execution_count": 13,
   "id": "284ebb16-06f8-4efc-8739-d877ef365d7b",
   "metadata": {},
   "outputs": [
    {
     "name": "stderr",
     "output_type": "stream",
     "text": [
      "C:\\Users\\Khemr\\AppData\\Local\\Temp\\ipykernel_9152\\862706566.py:15: DtypeWarning: Columns (23) have mixed types. Specify dtype option on import or set low_memory=False.\n",
      "  self.df = pd.read_csv(path)\n"
     ]
    },
    {
     "data": {
      "text/html": [
       "<div>\n",
       "<style scoped>\n",
       "    .dataframe tbody tr th:only-of-type {\n",
       "        vertical-align: middle;\n",
       "    }\n",
       "\n",
       "    .dataframe tbody tr th {\n",
       "        vertical-align: top;\n",
       "    }\n",
       "\n",
       "    .dataframe thead th {\n",
       "        text-align: right;\n",
       "    }\n",
       "</style>\n",
       "<table border=\"1\" class=\"dataframe\">\n",
       "  <thead>\n",
       "    <tr style=\"text-align: right;\">\n",
       "      <th></th>\n",
       "      <th>index</th>\n",
       "      <th>Order ID</th>\n",
       "      <th>Date</th>\n",
       "      <th>Status</th>\n",
       "      <th>Fulfilment</th>\n",
       "      <th>Sales Channel</th>\n",
       "      <th>ship-service-level</th>\n",
       "      <th>Style</th>\n",
       "      <th>SKU</th>\n",
       "      <th>Category</th>\n",
       "      <th>...</th>\n",
       "      <th>currency</th>\n",
       "      <th>Amount</th>\n",
       "      <th>ship-city</th>\n",
       "      <th>ship-state</th>\n",
       "      <th>ship-postal-code</th>\n",
       "      <th>ship-country</th>\n",
       "      <th>promotion-ids</th>\n",
       "      <th>B2B</th>\n",
       "      <th>fulfilled-by</th>\n",
       "      <th>Unnamed: 22</th>\n",
       "    </tr>\n",
       "  </thead>\n",
       "  <tbody>\n",
       "    <tr>\n",
       "      <th>0</th>\n",
       "      <td>0</td>\n",
       "      <td>405-8078784-5731545</td>\n",
       "      <td>04-30-22</td>\n",
       "      <td>Cancelled</td>\n",
       "      <td>Merchant</td>\n",
       "      <td>Amazon.in</td>\n",
       "      <td>Standard</td>\n",
       "      <td>SET389</td>\n",
       "      <td>SET389-KR-NP-S</td>\n",
       "      <td>Set</td>\n",
       "      <td>...</td>\n",
       "      <td>INR</td>\n",
       "      <td>647.62</td>\n",
       "      <td>MUMBAI</td>\n",
       "      <td>MAHARASHTRA</td>\n",
       "      <td>400081.0</td>\n",
       "      <td>IN</td>\n",
       "      <td>NaN</td>\n",
       "      <td>False</td>\n",
       "      <td>Easy Ship</td>\n",
       "      <td>NaN</td>\n",
       "    </tr>\n",
       "    <tr>\n",
       "      <th>1</th>\n",
       "      <td>1</td>\n",
       "      <td>171-9198151-1101146</td>\n",
       "      <td>04-30-22</td>\n",
       "      <td>Shipped - Delivered to Buyer</td>\n",
       "      <td>Merchant</td>\n",
       "      <td>Amazon.in</td>\n",
       "      <td>Standard</td>\n",
       "      <td>JNE3781</td>\n",
       "      <td>JNE3781-KR-XXXL</td>\n",
       "      <td>kurta</td>\n",
       "      <td>...</td>\n",
       "      <td>INR</td>\n",
       "      <td>406.00</td>\n",
       "      <td>BENGALURU</td>\n",
       "      <td>KARNATAKA</td>\n",
       "      <td>560085.0</td>\n",
       "      <td>IN</td>\n",
       "      <td>Amazon PLCC Free-Financing Universal Merchant ...</td>\n",
       "      <td>False</td>\n",
       "      <td>Easy Ship</td>\n",
       "      <td>NaN</td>\n",
       "    </tr>\n",
       "    <tr>\n",
       "      <th>2</th>\n",
       "      <td>2</td>\n",
       "      <td>404-0687676-7273146</td>\n",
       "      <td>04-30-22</td>\n",
       "      <td>Shipped</td>\n",
       "      <td>Amazon</td>\n",
       "      <td>Amazon.in</td>\n",
       "      <td>Expedited</td>\n",
       "      <td>JNE3371</td>\n",
       "      <td>JNE3371-KR-XL</td>\n",
       "      <td>kurta</td>\n",
       "      <td>...</td>\n",
       "      <td>INR</td>\n",
       "      <td>329.00</td>\n",
       "      <td>NAVI MUMBAI</td>\n",
       "      <td>MAHARASHTRA</td>\n",
       "      <td>410210.0</td>\n",
       "      <td>IN</td>\n",
       "      <td>IN Core Free Shipping 2015/04/08 23-48-5-108</td>\n",
       "      <td>True</td>\n",
       "      <td>NaN</td>\n",
       "      <td>NaN</td>\n",
       "    </tr>\n",
       "  </tbody>\n",
       "</table>\n",
       "<p>3 rows × 24 columns</p>\n",
       "</div>"
      ],
      "text/plain": [
       "   index             Order ID      Date                        Status  \\\n",
       "0      0  405-8078784-5731545  04-30-22                     Cancelled   \n",
       "1      1  171-9198151-1101146  04-30-22  Shipped - Delivered to Buyer   \n",
       "2      2  404-0687676-7273146  04-30-22                       Shipped   \n",
       "\n",
       "  Fulfilment Sales Channel  ship-service-level    Style              SKU  \\\n",
       "0   Merchant      Amazon.in           Standard   SET389   SET389-KR-NP-S   \n",
       "1   Merchant      Amazon.in           Standard  JNE3781  JNE3781-KR-XXXL   \n",
       "2     Amazon      Amazon.in          Expedited  JNE3371    JNE3371-KR-XL   \n",
       "\n",
       "  Category  ... currency  Amount    ship-city   ship-state ship-postal-code  \\\n",
       "0      Set  ...      INR  647.62       MUMBAI  MAHARASHTRA         400081.0   \n",
       "1    kurta  ...      INR  406.00    BENGALURU    KARNATAKA         560085.0   \n",
       "2    kurta  ...      INR  329.00  NAVI MUMBAI  MAHARASHTRA         410210.0   \n",
       "\n",
       "   ship-country                                      promotion-ids    B2B  \\\n",
       "0            IN                                                NaN  False   \n",
       "1            IN  Amazon PLCC Free-Financing Universal Merchant ...  False   \n",
       "2            IN       IN Core Free Shipping 2015/04/08 23-48-5-108   True   \n",
       "\n",
       "   fulfilled-by Unnamed: 22  \n",
       "0     Easy Ship         NaN  \n",
       "1     Easy Ship         NaN  \n",
       "2           NaN         NaN  \n",
       "\n",
       "[3 rows x 24 columns]"
      ]
     },
     "execution_count": 13,
     "metadata": {},
     "output_type": "execute_result"
    }
   ],
   "source": [
    "pkl_model.data_read(\"D:\\\\DataSet\\\\Amazon Sale Report.csv\")"
   ]
  },
  {
   "cell_type": "code",
   "execution_count": null,
   "id": "c38c81f7-f8af-4afb-a939-892e36c8fadf",
   "metadata": {},
   "outputs": [],
   "source": []
  }
 ],
 "metadata": {
  "kernelspec": {
   "display_name": "Python [conda env:base] *",
   "language": "python",
   "name": "conda-base-py"
  },
  "language_info": {
   "codemirror_mode": {
    "name": "ipython",
    "version": 3
   },
   "file_extension": ".py",
   "mimetype": "text/x-python",
   "name": "python",
   "nbconvert_exporter": "python",
   "pygments_lexer": "ipython3",
   "version": "3.12.7"
  }
 },
 "nbformat": 4,
 "nbformat_minor": 5
}
