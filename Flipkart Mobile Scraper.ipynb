{
 "cells": [
  {
   "cell_type": "code",
   "execution_count": 1,
   "id": "a3b62c96-caa6-455d-ac84-5d9b698f7677",
   "metadata": {},
   "outputs": [
    {
     "name": "stdout",
     "output_type": "stream",
     "text": [
      "Requirement already satisfied: beautifulsoup4 in c:\\users\\khemr\\anaconda3\\lib\\site-packages (4.12.3)\n",
      "Requirement already satisfied: soupsieve>1.2 in c:\\users\\khemr\\anaconda3\\lib\\site-packages (from beautifulsoup4) (2.5)\n",
      "Requirement already satisfied: requests in c:\\users\\khemr\\anaconda3\\lib\\site-packages (2.32.3)\n",
      "Requirement already satisfied: charset-normalizer<4,>=2 in c:\\users\\khemr\\anaconda3\\lib\\site-packages (from requests) (3.3.2)\n",
      "Requirement already satisfied: idna<4,>=2.5 in c:\\users\\khemr\\anaconda3\\lib\\site-packages (from requests) (3.7)\n",
      "Requirement already satisfied: urllib3<3,>=1.21.1 in c:\\users\\khemr\\anaconda3\\lib\\site-packages (from requests) (2.2.3)\n",
      "Requirement already satisfied: certifi>=2017.4.17 in c:\\users\\khemr\\anaconda3\\lib\\site-packages (from requests) (2025.1.31)\n"
     ]
    }
   ],
   "source": [
    "!pip install beautifulsoup4\n",
    "!pip install requests"
   ]
  },
  {
   "cell_type": "code",
   "execution_count": 2,
   "id": "cbc32eeb-bf69-4b0c-8ddb-df233e171db4",
   "metadata": {},
   "outputs": [],
   "source": [
    "import requests\n",
    "from bs4 import BeautifulSoup\n",
    "import pandas as pd\n",
    "import numpy as np"
   ]
  },
  {
   "cell_type": "code",
   "execution_count": 3,
   "id": "db963f5d-aa63-4f6a-9184-cd7479c880d6",
   "metadata": {},
   "outputs": [],
   "source": [
    "Product_name = []\n",
    "Offer_Prices = []\n",
    "Original_Prices = []\n",
    "Description =[]\n",
    "Reviews = []"
   ]
  },
  {
   "cell_type": "code",
   "execution_count": 4,
   "id": "9e62627a-329a-4344-9f90-d11bc940a3e2",
   "metadata": {},
   "outputs": [
    {
     "name": "stdout",
     "output_type": "stream",
     "text": [
      "Failed to retrieve page 2. Status code: 403\n",
      "Failed to retrieve page 3. Status code: 403\n",
      "Failed to retrieve page 4. Status code: 403\n",
      "Failed to retrieve page 5. Status code: 403\n",
      "Failed to retrieve page 6. Status code: 403\n",
      "Failed to retrieve page 7. Status code: 403\n",
      "Failed to retrieve page 8. Status code: 403\n",
      "Failed to retrieve page 9. Status code: 403\n"
     ]
    }
   ],
   "source": [
    "for i in range(2, 10):\n",
    "    url = \"https://www.flipkart.com/search?q=mobiles&as=on&as-show=on&otracker=AS_Query_TrendingAutoSuggest_6_0_na_na_na&otracker1=AS_Query_TrendingAutoSuggest_6_0_na_na_na&as-pos=6&as-type=TRENDING&suggestionId=mobiles&requestId=acf3ca05-4f9e-4dca-8034-924059566256&page=\"+str(i)\n",
    "    r = requests.get(url)\n",
    "    \n",
    "    if r.status_code == 200:\n",
    "        soup = BeautifulSoup(r.text, \"html.parser\")\n",
    "        box = soup.find(\"div\", class_=\"DOjaWF gdgoEp\")\n",
    "        \n",
    "        if box:\n",
    "            names = box.find_all(\"div\", class_=\"KzDlHZ\")\n",
    "            for j in names:\n",
    "                name = j.text\n",
    "                Product_name.append(name)\n",
    "            \n",
    "            Offer_prices = box.find_all(\"div\", class_=\"Nx9bqj _4b5DiR\")\n",
    "            for k in Offer_prices:\n",
    "                name = k.text\n",
    "                Offer_Prices.append(name)\n",
    "\n",
    "            Original_prices = box.find_all(\"div\", class_=\"yRaY8j ZYYwLA\")\n",
    "            for h in Original_prices:\n",
    "                name = h.text\n",
    "                Original_Prices.append(name)\n",
    "\n",
    "            desc = box.find_all(\"ul\", class_=\"G4BRas\")\n",
    "            for l in desc:\n",
    "                name = l.text\n",
    "                Description.append(name)\n",
    "\n",
    "            reviews = box.find_all(\"div\", class_=\"XQDdHH\")\n",
    "            for m in reviews:\n",
    "                name = m.text\n",
    "                Reviews.append(name)\n",
    "        else:\n",
    "            print(f\"No box found on page {i}.\")\n",
    "    else:\n",
    "        print(f\"Failed to retrieve page {i}. Status code: {r.status_code}\")"
   ]
  },
  {
   "cell_type": "code",
   "execution_count": 5,
   "id": "b8c543e9-b776-4ad7-8559-84d239848666",
   "metadata": {},
   "outputs": [],
   "source": [
    "min_length = min(len(Product_name), len(Offer_Prices), len(Original_Prices),  len(Description), len(Reviews))\n",
    "\n",
    "Product_name = Product_name[:min_length]\n",
    "Offer_Prices = Offer_Prices[:min_length]\n",
    "Original_Prices = Original_Prices[:min_length]\n",
    "Description = Description[:min_length]\n",
    "Reviews = Reviews[:min_length]"
   ]
  },
  {
   "cell_type": "code",
   "execution_count": 6,
   "id": "5967de42-f1b4-4c32-b1a2-7804899f50e5",
   "metadata": {},
   "outputs": [],
   "source": [
    "data = {\n",
    "    \"product name\":Product_name,\n",
    "    \"offer_prices\":Offer_Prices,\n",
    "    \"original_prices\":Original_Prices,\n",
    "    \"description\":Description,\n",
    "    \"reviews\":Reviews\n",
    "}"
   ]
  },
  {
   "cell_type": "code",
   "execution_count": 7,
   "id": "dbad5195-5da5-4a1d-9844-f371effb51d1",
   "metadata": {},
   "outputs": [],
   "source": [
    "df = pd.DataFrame(data)"
   ]
  },
  {
   "cell_type": "code",
   "execution_count": 8,
   "id": "ae2b67d6-4716-4b9b-8fa9-4b98354e583d",
   "metadata": {},
   "outputs": [],
   "source": [
    "df.to_csv(\"mobile.csv\")"
   ]
  },
  {
   "cell_type": "code",
   "execution_count": 9,
   "id": "24d9c5bc-7206-4148-951a-5cd354918f92",
   "metadata": {},
   "outputs": [
    {
     "data": {
      "text/html": [
       "<div>\n",
       "<style scoped>\n",
       "    .dataframe tbody tr th:only-of-type {\n",
       "        vertical-align: middle;\n",
       "    }\n",
       "\n",
       "    .dataframe tbody tr th {\n",
       "        vertical-align: top;\n",
       "    }\n",
       "\n",
       "    .dataframe thead th {\n",
       "        text-align: right;\n",
       "    }\n",
       "</style>\n",
       "<table border=\"1\" class=\"dataframe\">\n",
       "  <thead>\n",
       "    <tr style=\"text-align: right;\">\n",
       "      <th></th>\n",
       "      <th>Unnamed: 0</th>\n",
       "      <th>product name</th>\n",
       "      <th>offer_prices</th>\n",
       "      <th>original_prices</th>\n",
       "      <th>description</th>\n",
       "      <th>reviews</th>\n",
       "    </tr>\n",
       "  </thead>\n",
       "  <tbody>\n",
       "  </tbody>\n",
       "</table>\n",
       "</div>"
      ],
      "text/plain": [
       "Empty DataFrame\n",
       "Columns: [Unnamed: 0, product name, offer_prices, original_prices, description, reviews]\n",
       "Index: []"
      ]
     },
     "execution_count": 9,
     "metadata": {},
     "output_type": "execute_result"
    }
   ],
   "source": [
    "df = pd.read_csv(\"mobile.csv\")\n",
    "df.head()"
   ]
  },
  {
   "cell_type": "code",
   "execution_count": 10,
   "id": "0ee32973-2c3b-4738-b3bf-5f89871d52dc",
   "metadata": {},
   "outputs": [],
   "source": [
    "df[\"offer_prices\"] = df[\"offer_prices\"].str.replace(\"₹\",\"\")\n",
    "df[\"offer_prices\"] = df[\"offer_prices\"].str.replace(\",\",\"\")\n",
    "df[\"offer_prices\"] = df[\"offer_prices\"].astype(int)"
   ]
  },
  {
   "cell_type": "code",
   "execution_count": 11,
   "id": "9f8a2dec-6e8a-4d09-82d8-265720505ef5",
   "metadata": {},
   "outputs": [],
   "source": [
    "df[\"original_prices\"] = df[\"original_prices\"].str.replace(\"₹\",\"\")\n",
    "df[\"original_prices\"] = df[\"original_prices\"].str.replace(\",\",\"\")\n",
    "df[\"original_prices\"] = df[\"original_prices\"].astype(int)"
   ]
  },
  {
   "cell_type": "code",
   "execution_count": 12,
   "id": "beeb4dd0-748a-4bb6-a9d7-7a10add6e4cf",
   "metadata": {},
   "outputs": [],
   "source": [
    "df[\"reviews\"] = df[\"reviews\"].astype(float)"
   ]
  },
  {
   "cell_type": "code",
   "execution_count": 13,
   "id": "a90f32bf-1ba9-4c6d-b140-0769cbdf5c99",
   "metadata": {},
   "outputs": [
    {
     "name": "stdout",
     "output_type": "stream",
     "text": [
      "Empty DataFrame\n",
      "Columns: [product name, Company]\n",
      "Index: []\n"
     ]
    }
   ],
   "source": [
    "df['Company'] = df['product name'].str.split().str[0]\n",
    "\n",
    "print(df[['product name', 'Company']].head(3))"
   ]
  },
  {
   "cell_type": "code",
   "execution_count": 14,
   "id": "c83a668d-2bf5-48bc-ac77-62b6cfca8e13",
   "metadata": {},
   "outputs": [
    {
     "name": "stdout",
     "output_type": "stream",
     "text": [
      "Empty DataFrame\n",
      "Columns: [product name, storage(in GB)]\n",
      "Index: []\n"
     ]
    }
   ],
   "source": [
    "df['storage(in GB)'] = df['product name'].str.extract(r'(\\d+\\s*GB)')\n",
    "\n",
    "df['storage(in GB)'] = df['storage(in GB)'].str.replace(\" \", \"\")\n",
    "df['storage(in GB)'] = df['storage(in GB)'].str.replace(\"GB\", \"\")\n",
    "\n",
    "print(df[['product name', 'storage(in GB)']].head(3))"
   ]
  },
  {
   "cell_type": "code",
   "execution_count": 15,
   "id": "52bfd278-e03b-4492-a29b-40b8dc92c6fc",
   "metadata": {},
   "outputs": [
    {
     "name": "stdout",
     "output_type": "stream",
     "text": [
      "Empty DataFrame\n",
      "Columns: [description, Ram(in GB)]\n",
      "Index: []\n"
     ]
    }
   ],
   "source": [
    "df['Ram(in GB)'] = df['description'].str.extract(r'(\\d+\\s*GB)')\n",
    "\n",
    "df['Ram(in GB)'] = df['Ram(in GB)'].str.replace(\" \", \"\")\n",
    "df['Ram(in GB)'] = df['Ram(in GB)'].str.replace(\"GB\", \"\")\n",
    "\n",
    "print(df[['description', 'Ram(in GB)']].head(3))"
   ]
  },
  {
   "cell_type": "code",
   "execution_count": 16,
   "id": "a9e9bf83-0e06-443e-b72b-9d3cc19cd87a",
   "metadata": {},
   "outputs": [
    {
     "name": "stdout",
     "output_type": "stream",
     "text": [
      "Empty DataFrame\n",
      "Columns: [description, display size(in inch)]\n",
      "Index: []\n"
     ]
    }
   ],
   "source": [
    "df['display size(in inch)'] = df['description'].str.extract(r'(\\d+\\s*inch)')\n",
    "\n",
    "df['display size(in inch)'] = df['display size(in inch)'].str.replace(\" \", \"\")\n",
    "df['display size(in inch)'] = df['display size(in inch)'].str.replace(\"inch\", \"\")\n",
    "\n",
    "print(df[['description', 'display size(in inch)']].head(3))"
   ]
  },
  {
   "cell_type": "code",
   "execution_count": 17,
   "id": "80670731-a1f4-45eb-a03e-51af99730466",
   "metadata": {},
   "outputs": [
    {
     "name": "stdout",
     "output_type": "stream",
     "text": [
      "Empty DataFrame\n",
      "Columns: [description, Battery(in mAh)]\n",
      "Index: []\n"
     ]
    }
   ],
   "source": [
    "df['Battery(in mAh)'] = df['description'].str.extract(r'(\\d+\\s*mAh)')\n",
    "\n",
    "df['Battery(in mAh)'] = df['Battery(in mAh)'].str.replace(\" \", \"\")\n",
    "df['Battery(in mAh)'] = df['Battery(in mAh)'].str.replace(\"mAh\", \"\")\n",
    "\n",
    "print(df[['description', 'Battery(in mAh)']].head(3))"
   ]
  },
  {
   "cell_type": "code",
   "execution_count": 18,
   "id": "06cbe72c-5ccf-42c9-9d33-a8fc67910400",
   "metadata": {},
   "outputs": [
    {
     "name": "stdout",
     "output_type": "stream",
     "text": [
      "Empty DataFrame\n",
      "Columns: [description, Rear camera(in mp)]\n",
      "Index: []\n"
     ]
    }
   ],
   "source": [
    "df['Rear camera(in mp)'] = df['description'].str.extract(r'(\\d+\\s*MP)')\n",
    "\n",
    "df['Rear camera(in mp)'] = df['Rear camera(in mp)'].str.replace(\" \", \"\")\n",
    "df['Rear camera(in mp)'] = df['Rear camera(in mp)'].str.replace(\"MP\", \"\")\n",
    "\n",
    "print(df[['description', 'Rear camera(in mp)']].head(3))"
   ]
  },
  {
   "cell_type": "code",
   "execution_count": 19,
   "id": "12f9c0cb-6247-4814-9d0f-3b7a469df8ea",
   "metadata": {},
   "outputs": [
    {
     "name": "stdout",
     "output_type": "stream",
     "text": [
      "Empty DataFrame\n",
      "Columns: [description, Front camera(in mp)]\n",
      "Index: []\n"
     ]
    }
   ],
   "source": [
    "df['Front camera(in mp)'] = df['description'].str.extract(r'(\\d+\\s*MP Front)')\n",
    "\n",
    "df['Front camera(in mp)'] = df['Front camera(in mp)'].str.replace(\" \", \"\")\n",
    "df['Front camera(in mp)'] = df['Front camera(in mp)'].str.replace(\"MPFront\", \"\")\n",
    "\n",
    "print(df[['description', 'Front camera(in mp)']].head(3))"
   ]
  },
  {
   "cell_type": "code",
   "execution_count": 20,
   "id": "4f4d3b28-7408-4bf0-bfa6-93eec7943d4c",
   "metadata": {},
   "outputs": [
    {
     "data": {
      "text/html": [
       "<div>\n",
       "<style scoped>\n",
       "    .dataframe tbody tr th:only-of-type {\n",
       "        vertical-align: middle;\n",
       "    }\n",
       "\n",
       "    .dataframe tbody tr th {\n",
       "        vertical-align: top;\n",
       "    }\n",
       "\n",
       "    .dataframe thead th {\n",
       "        text-align: right;\n",
       "    }\n",
       "</style>\n",
       "<table border=\"1\" class=\"dataframe\">\n",
       "  <thead>\n",
       "    <tr style=\"text-align: right;\">\n",
       "      <th></th>\n",
       "      <th>Unnamed: 0</th>\n",
       "      <th>product name</th>\n",
       "      <th>offer_prices</th>\n",
       "      <th>original_prices</th>\n",
       "      <th>description</th>\n",
       "      <th>reviews</th>\n",
       "      <th>Company</th>\n",
       "      <th>storage(in GB)</th>\n",
       "      <th>Ram(in GB)</th>\n",
       "      <th>display size(in inch)</th>\n",
       "      <th>Battery(in mAh)</th>\n",
       "      <th>Rear camera(in mp)</th>\n",
       "      <th>Front camera(in mp)</th>\n",
       "    </tr>\n",
       "  </thead>\n",
       "  <tbody>\n",
       "  </tbody>\n",
       "</table>\n",
       "</div>"
      ],
      "text/plain": [
       "Empty DataFrame\n",
       "Columns: [Unnamed: 0, product name, offer_prices, original_prices, description, reviews, Company, storage(in GB), Ram(in GB), display size(in inch), Battery(in mAh), Rear camera(in mp), Front camera(in mp)]\n",
       "Index: []"
      ]
     },
     "execution_count": 20,
     "metadata": {},
     "output_type": "execute_result"
    }
   ],
   "source": [
    "df.head()"
   ]
  },
  {
   "cell_type": "code",
   "execution_count": 21,
   "id": "8cfb277c-bf6b-4b1d-b670-3d6ab9154907",
   "metadata": {},
   "outputs": [],
   "source": [
    "df = df.drop(columns = [\"Unnamed: 0\", \"product name\", \"description\"])"
   ]
  },
  {
   "cell_type": "code",
   "execution_count": 22,
   "id": "0c73b120-ae58-498b-9bf9-e65b478511e3",
   "metadata": {},
   "outputs": [
    {
     "data": {
      "text/html": [
       "<div>\n",
       "<style scoped>\n",
       "    .dataframe tbody tr th:only-of-type {\n",
       "        vertical-align: middle;\n",
       "    }\n",
       "\n",
       "    .dataframe tbody tr th {\n",
       "        vertical-align: top;\n",
       "    }\n",
       "\n",
       "    .dataframe thead th {\n",
       "        text-align: right;\n",
       "    }\n",
       "</style>\n",
       "<table border=\"1\" class=\"dataframe\">\n",
       "  <thead>\n",
       "    <tr style=\"text-align: right;\">\n",
       "      <th></th>\n",
       "      <th>offer_prices</th>\n",
       "      <th>original_prices</th>\n",
       "      <th>reviews</th>\n",
       "      <th>Company</th>\n",
       "      <th>storage(in GB)</th>\n",
       "      <th>Ram(in GB)</th>\n",
       "      <th>display size(in inch)</th>\n",
       "      <th>Battery(in mAh)</th>\n",
       "      <th>Rear camera(in mp)</th>\n",
       "      <th>Front camera(in mp)</th>\n",
       "    </tr>\n",
       "  </thead>\n",
       "  <tbody>\n",
       "  </tbody>\n",
       "</table>\n",
       "</div>"
      ],
      "text/plain": [
       "Empty DataFrame\n",
       "Columns: [offer_prices, original_prices, reviews, Company, storage(in GB), Ram(in GB), display size(in inch), Battery(in mAh), Rear camera(in mp), Front camera(in mp)]\n",
       "Index: []"
      ]
     },
     "execution_count": 22,
     "metadata": {},
     "output_type": "execute_result"
    }
   ],
   "source": [
    "df.head()"
   ]
  },
  {
   "cell_type": "code",
   "execution_count": 23,
   "id": "5c9495ef-3985-491a-b179-40f85a82bd2a",
   "metadata": {},
   "outputs": [
    {
     "data": {
      "text/html": [
       "<div>\n",
       "<style scoped>\n",
       "    .dataframe tbody tr th:only-of-type {\n",
       "        vertical-align: middle;\n",
       "    }\n",
       "\n",
       "    .dataframe tbody tr th {\n",
       "        vertical-align: top;\n",
       "    }\n",
       "\n",
       "    .dataframe thead th {\n",
       "        text-align: right;\n",
       "    }\n",
       "</style>\n",
       "<table border=\"1\" class=\"dataframe\">\n",
       "  <thead>\n",
       "    <tr style=\"text-align: right;\">\n",
       "      <th></th>\n",
       "      <th>Company</th>\n",
       "      <th>offer_prices</th>\n",
       "      <th>original_prices</th>\n",
       "      <th>reviews</th>\n",
       "      <th>storage(in GB)</th>\n",
       "      <th>Ram(in GB)</th>\n",
       "      <th>display size(in inch)</th>\n",
       "      <th>Battery(in mAh)</th>\n",
       "      <th>Rear camera(in mp)</th>\n",
       "      <th>Front camera(in mp)</th>\n",
       "    </tr>\n",
       "  </thead>\n",
       "  <tbody>\n",
       "  </tbody>\n",
       "</table>\n",
       "</div>"
      ],
      "text/plain": [
       "Empty DataFrame\n",
       "Columns: [Company, offer_prices, original_prices, reviews, storage(in GB), Ram(in GB), display size(in inch), Battery(in mAh), Rear camera(in mp), Front camera(in mp)]\n",
       "Index: []"
      ]
     },
     "execution_count": 23,
     "metadata": {},
     "output_type": "execute_result"
    }
   ],
   "source": [
    "df = df.iloc[:, [3, 0, 1, 2, 4, 5, 6, 7, 8, 9]]\n",
    "df.head()"
   ]
  },
  {
   "cell_type": "code",
   "execution_count": 24,
   "id": "f17be6a7-4d83-458b-b1ba-06e40bc2090c",
   "metadata": {},
   "outputs": [
    {
     "data": {
      "text/plain": [
       "(0, 10)"
      ]
     },
     "execution_count": 24,
     "metadata": {},
     "output_type": "execute_result"
    }
   ],
   "source": [
    "df.shape"
   ]
  },
  {
   "cell_type": "code",
   "execution_count": 25,
   "id": "d299d4b9-0833-4c52-80fe-38a503b30a0f",
   "metadata": {},
   "outputs": [
    {
     "name": "stdout",
     "output_type": "stream",
     "text": [
      "<class 'pandas.core.frame.DataFrame'>\n",
      "RangeIndex: 0 entries\n",
      "Data columns (total 10 columns):\n",
      " #   Column                 Non-Null Count  Dtype  \n",
      "---  ------                 --------------  -----  \n",
      " 0   Company                0 non-null      object \n",
      " 1   offer_prices           0 non-null      int32  \n",
      " 2   original_prices        0 non-null      int32  \n",
      " 3   reviews                0 non-null      float64\n",
      " 4   storage(in GB)         0 non-null      object \n",
      " 5   Ram(in GB)             0 non-null      object \n",
      " 6   display size(in inch)  0 non-null      object \n",
      " 7   Battery(in mAh)        0 non-null      object \n",
      " 8   Rear camera(in mp)     0 non-null      object \n",
      " 9   Front camera(in mp)    0 non-null      object \n",
      "dtypes: float64(1), int32(2), object(7)\n",
      "memory usage: 132.0+ bytes\n"
     ]
    }
   ],
   "source": [
    "df.info()"
   ]
  },
  {
   "cell_type": "code",
   "execution_count": 26,
   "id": "32efa62a-7105-4bab-95b8-2b4f19d45d89",
   "metadata": {},
   "outputs": [
    {
     "data": {
      "text/html": [
       "<div>\n",
       "<style scoped>\n",
       "    .dataframe tbody tr th:only-of-type {\n",
       "        vertical-align: middle;\n",
       "    }\n",
       "\n",
       "    .dataframe tbody tr th {\n",
       "        vertical-align: top;\n",
       "    }\n",
       "\n",
       "    .dataframe thead th {\n",
       "        text-align: right;\n",
       "    }\n",
       "</style>\n",
       "<table border=\"1\" class=\"dataframe\">\n",
       "  <thead>\n",
       "    <tr style=\"text-align: right;\">\n",
       "      <th></th>\n",
       "      <th>offer_prices</th>\n",
       "      <th>original_prices</th>\n",
       "      <th>reviews</th>\n",
       "    </tr>\n",
       "  </thead>\n",
       "  <tbody>\n",
       "    <tr>\n",
       "      <th>count</th>\n",
       "      <td>0.0</td>\n",
       "      <td>0.0</td>\n",
       "      <td>0.0</td>\n",
       "    </tr>\n",
       "    <tr>\n",
       "      <th>mean</th>\n",
       "      <td>NaN</td>\n",
       "      <td>NaN</td>\n",
       "      <td>NaN</td>\n",
       "    </tr>\n",
       "    <tr>\n",
       "      <th>std</th>\n",
       "      <td>NaN</td>\n",
       "      <td>NaN</td>\n",
       "      <td>NaN</td>\n",
       "    </tr>\n",
       "    <tr>\n",
       "      <th>min</th>\n",
       "      <td>NaN</td>\n",
       "      <td>NaN</td>\n",
       "      <td>NaN</td>\n",
       "    </tr>\n",
       "    <tr>\n",
       "      <th>25%</th>\n",
       "      <td>NaN</td>\n",
       "      <td>NaN</td>\n",
       "      <td>NaN</td>\n",
       "    </tr>\n",
       "    <tr>\n",
       "      <th>50%</th>\n",
       "      <td>NaN</td>\n",
       "      <td>NaN</td>\n",
       "      <td>NaN</td>\n",
       "    </tr>\n",
       "    <tr>\n",
       "      <th>75%</th>\n",
       "      <td>NaN</td>\n",
       "      <td>NaN</td>\n",
       "      <td>NaN</td>\n",
       "    </tr>\n",
       "    <tr>\n",
       "      <th>max</th>\n",
       "      <td>NaN</td>\n",
       "      <td>NaN</td>\n",
       "      <td>NaN</td>\n",
       "    </tr>\n",
       "  </tbody>\n",
       "</table>\n",
       "</div>"
      ],
      "text/plain": [
       "       offer_prices  original_prices  reviews\n",
       "count           0.0              0.0      0.0\n",
       "mean            NaN              NaN      NaN\n",
       "std             NaN              NaN      NaN\n",
       "min             NaN              NaN      NaN\n",
       "25%             NaN              NaN      NaN\n",
       "50%             NaN              NaN      NaN\n",
       "75%             NaN              NaN      NaN\n",
       "max             NaN              NaN      NaN"
      ]
     },
     "execution_count": 26,
     "metadata": {},
     "output_type": "execute_result"
    }
   ],
   "source": [
    "df.describe()"
   ]
  },
  {
   "cell_type": "code",
   "execution_count": 27,
   "id": "9f33d48d-3158-4cec-92ce-f924b2b2f9df",
   "metadata": {},
   "outputs": [
    {
     "data": {
      "text/html": [
       "<div>\n",
       "<style scoped>\n",
       "    .dataframe tbody tr th:only-of-type {\n",
       "        vertical-align: middle;\n",
       "    }\n",
       "\n",
       "    .dataframe tbody tr th {\n",
       "        vertical-align: top;\n",
       "    }\n",
       "\n",
       "    .dataframe thead th {\n",
       "        text-align: right;\n",
       "    }\n",
       "</style>\n",
       "<table border=\"1\" class=\"dataframe\">\n",
       "  <thead>\n",
       "    <tr style=\"text-align: right;\">\n",
       "      <th></th>\n",
       "      <th>Company</th>\n",
       "      <th>offer_prices</th>\n",
       "      <th>original_prices</th>\n",
       "      <th>reviews</th>\n",
       "      <th>storage(in GB)</th>\n",
       "      <th>Ram(in GB)</th>\n",
       "      <th>display size(in inch)</th>\n",
       "      <th>Battery(in mAh)</th>\n",
       "      <th>Rear camera(in mp)</th>\n",
       "      <th>Front camera(in mp)</th>\n",
       "    </tr>\n",
       "  </thead>\n",
       "  <tbody>\n",
       "  </tbody>\n",
       "</table>\n",
       "</div>"
      ],
      "text/plain": [
       "Empty DataFrame\n",
       "Columns: [Company, offer_prices, original_prices, reviews, storage(in GB), Ram(in GB), display size(in inch), Battery(in mAh), Rear camera(in mp), Front camera(in mp)]\n",
       "Index: []"
      ]
     },
     "execution_count": 27,
     "metadata": {},
     "output_type": "execute_result"
    }
   ],
   "source": [
    "df.head(3)"
   ]
  },
  {
   "cell_type": "code",
   "execution_count": 28,
   "id": "b6b086f3-b58a-45f1-9f9e-afce4eea347f",
   "metadata": {},
   "outputs": [],
   "source": [
    "import matplotlib.pyplot as plt\n",
    "import seaborn as sns"
   ]
  },
  {
   "cell_type": "code",
   "execution_count": 29,
   "id": "d958e275-fd68-45f5-9713-0f5d120bb174",
   "metadata": {},
   "outputs": [
    {
     "data": {
      "image/png": "[encoded data removed]",
      "text/plain": [
       "<Figure size 640x480 with 1 Axes>"
      ]
     },
     "metadata": {},
     "output_type": "display_data"
    }
   ],
   "source": [
    "sns.histplot(df['offer_prices'], kde=True)\n",
    "plt.title('Offer Price Distribution')\n",
    "plt.xlabel('Offer Price')\n",
    "plt.ylabel('Frequency')\n",
    "plt.show()"
   ]
  },
  {
   "cell_type": "code",
   "execution_count": null,
   "id": "b909c324-f13d-4100-97b9-68ca3f3fac39",
   "metadata": {},
   "outputs": [],
   "source": [
    "plt.figure(figsize=[20,6])\n",
    "df_sorted = df.sort_values('original_prices', ascending=False)\n",
    "df_sorted.plot(kind='bar', x='Company', y=['original_prices', 'offer_prices'], figsize=(10, 6))\n",
    "plt.title('Original vs Offer Prices by Company')\n",
    "plt.ylabel('Price')\n",
    "plt.xticks(rotation=45)\n",
    "plt.show()"
   ]
  },
  {
   "cell_type": "code",
   "execution_count": null,
   "id": "89d5f41e-4ff4-4a58-b75e-4c5176823848",
   "metadata": {},
   "outputs": [],
   "source": [
    "sns.barplot(x='Company', y='reviews', data=df)\n",
    "plt.title('Average Reviews by Company')\n",
    "plt.ylabel('Reviews')\n",
    "plt.xticks(rotation=45)\n",
    "plt.show()"
   ]
  },
  {
   "cell_type": "code",
   "execution_count": null,
   "id": "b2e1007a-4c48-4357-94ba-38cd5a3feac4",
   "metadata": {},
   "outputs": [],
   "source": [
    "sns.histplot(df['Battery(in mAh)'], bins=10, kde=True)\n",
    "plt.title('Battery Capacity Distribution')\n",
    "plt.xlabel('Battery (mAh)')\n",
    "plt.show()"
   ]
  },
  {
   "cell_type": "code",
   "execution_count": null,
   "id": "78258faa-4ed2-4a0e-812e-8b63cd925fb1",
   "metadata": {},
   "outputs": [],
   "source": [
    "corr = df.select_dtypes(include=np.number).corr()\n",
    "sns.heatmap(corr, annot=True, cmap='coolwarm', fmt=\".2f\")\n",
    "plt.title('Correlation Heatmap')\n",
    "plt.show()"
   ]
  },
  {
   "cell_type": "code",
   "execution_count": null,
   "id": "70bd24bf-0679-4d9d-b8af-9669bc184492",
   "metadata": {},
   "outputs": [],
   "source": [
    "sns.countplot(x='Company', data=df)\n",
    "plt.title('Count of Phones by Brand')\n",
    "plt.xticks(rotation=45)\n",
    "plt.show()"
   ]
  },
  {
   "cell_type": "code",
   "execution_count": null,
   "id": "955113db-7a54-4c13-a4a3-6234d76b17c1",
   "metadata": {},
   "outputs": [],
   "source": [
    "storage_counts = df['storage(in GB)'].value_counts()\n",
    "plt.figure(figsize=(6,6))\n",
    "plt.pie(storage_counts, labels=storage_counts.index, autopct='%1.1f%%', startangle=90)\n",
    "plt.title('Storage Capacity Distribution')\n",
    "plt.show()"
   ]
  },
  {
   "cell_type": "code",
   "execution_count": null,
   "id": "d3cb1df4-f839-463e-8df9-5f2573ef3256",
   "metadata": {},
   "outputs": [],
   "source": [
    "plt.figure(figsize=(8, 5))\n",
    "sns.histplot(df['offer_prices'], bins=5, kde=True, color='skyblue')\n",
    "plt.title(\"Offer Price Distribution\")\n",
    "plt.xlabel(\"Price (₹)\")\n",
    "plt.ylabel(\"Count\")\n",
    "plt.tight_layout()\n",
    "plt.show()\n"
   ]
  },
  {
   "cell_type": "code",
   "execution_count": null,
   "id": "2a4577bd-cbdf-4a35-a627-9f0904b4272a",
   "metadata": {},
   "outputs": [],
   "source": [
    "plt.figure(figsize=(8, 5))\n",
    "sns.boxplot(data=df, x='storage(in GB)', y='offer_prices')\n",
    "plt.title(\"Offer Price by Storage\")\n",
    "plt.xlabel(\"Storage (GB)\")\n",
    "plt.ylabel(\"Price (₹)\")\n",
    "plt.tight_layout()\n",
    "plt.show()\n"
   ]
  },
  {
   "cell_type": "code",
   "execution_count": null,
   "id": "dec068b7-c6ca-458a-9ae2-69832b217ff3",
   "metadata": {},
   "outputs": [],
   "source": [
    "# Check correlation\n",
    "plt.figure(figsize=(6, 4))\n",
    "sns.heatmap(df[['offer_prices', 'original_prices', 'reviews', 'storage(in GB)']].corr(), annot=True, cmap='coolwarm')\n",
    "plt.title(\"Correlation Heatmap\")\n",
    "plt.tight_layout()\n",
    "plt.show()\n"
   ]
  },
  {
   "cell_type": "code",
   "execution_count": null,
   "id": "e3bb17e8-b9b8-40fc-9c4f-01f5d20f8387",
   "metadata": {},
   "outputs": [],
   "source": [
    "plt.figure(figsize=(8, 5))\n",
    "sns.scatterplot(data=df, x='offer_prices', y='reviews', hue='storage(in GB)', palette='viridis', s=100)\n",
    "plt.title(\"Offer Price vs Reviews\")\n",
    "plt.xlabel(\"Offer Price (₹)\")\n",
    "plt.ylabel(\"Reviews\")\n",
    "plt.tight_layout()\n",
    "plt.show()\n"
   ]
  },
  {
   "cell_type": "code",
   "execution_count": null,
   "id": "09427c64-c97e-40e8-8e2c-486b4016e0be",
   "metadata": {},
   "outputs": [],
   "source": [
    "plt.figure(figsize=(8, 5))\n",
    "sns.histplot(df['reviews'], bins=5, kde=True, color='orange')\n",
    "plt.title(\"Reviews Distribution\")\n",
    "plt.xlabel(\"Rating\")\n",
    "plt.ylabel(\"Count\")\n",
    "plt.tight_layout()\n",
    "plt.show()\n"
   ]
  },
  {
   "cell_type": "code",
   "execution_count": null,
   "id": "a8070c61-eaa0-4319-bf02-756d86b9d2b2",
   "metadata": {},
   "outputs": [],
   "source": [
    "df.head()"
   ]
  },
  {
   "cell_type": "code",
   "execution_count": null,
   "id": "434a78ae-9a21-402b-b419-b073ed303d97",
   "metadata": {},
   "outputs": [],
   "source": [
    "df.isnull().sum()"
   ]
  },
  {
   "cell_type": "code",
   "execution_count": null,
   "id": "7f05ed11-9902-445c-80fa-f94b622ccd86",
   "metadata": {},
   "outputs": [],
   "source": [
    "from sklearn.impute import SimpleImputer\n",
    "\n",
    "si = SimpleImputer(strategy=\"mean\")\n",
    "df[\"storage(in GB)\"] = si.fit_transform(df[[\"storage(in GB)\"]])\n",
    "df[\"Ram(in GB)\"] = si.fit_transform(df[[\"Ram(in GB)\"]])\n",
    "df[\"Battery(in mAh)\"] = si.fit_transform(df[[\"Battery(in mAh)\"]])\n",
    "df[\"Rear camera(in mp)\"] = si.fit_transform(df[[\"Rear camera(in mp)\"]])\n",
    "df[\"Front camera(in mp)\"] = si.fit_transform(df[[\"Front camera(in mp)\"]])"
   ]
  },
  {
   "cell_type": "code",
   "execution_count": null,
   "id": "5a7eb460-9245-4ac1-9c3d-ab53d1ec5ca5",
   "metadata": {},
   "outputs": [],
   "source": [
    "df.isnull().sum()"
   ]
  },
  {
   "cell_type": "code",
   "execution_count": null,
   "id": "982ab6c0-5e16-42ab-a675-e99bf22c0ed7",
   "metadata": {},
   "outputs": [],
   "source": [
    "from sklearn.preprocessing import LabelEncoder\n",
    "le = LabelEncoder()"
   ]
  },
  {
   "cell_type": "code",
   "execution_count": null,
   "id": "270f4fe8-7b46-4756-bdb5-afb5f188294b",
   "metadata": {},
   "outputs": [],
   "source": [
    "object_list = []\n",
    "for i in df.select_dtypes(include = [\"object\"]).columns:\n",
    "    object_list.append(i)\n",
    "for i in object_list:\n",
    "    df[i] = le.fit_transform(df[i])\n",
    "df.head(3)"
   ]
  },
  {
   "cell_type": "code",
   "execution_count": null,
   "id": "a04e6176-4913-4f78-9d2f-9fac940fc41e",
   "metadata": {},
   "outputs": [],
   "source": [
    "df.info()"
   ]
  },
  {
   "cell_type": "code",
   "execution_count": null,
   "id": "1a8a73d3-6228-4fb6-a43c-47c9506813b7",
   "metadata": {},
   "outputs": [],
   "source": [
    "from sklearn.model_selection import train_test_split\n",
    "\n",
    "x = df.drop(columns = \"offer_prices\")\n",
    "y = df[\"offer_prices\"]\n",
    "\n",
    "\n",
    "x_train, x_test, y_train, y_test = train_test_split(x, y, test_size=0.2, random_state=42)"
   ]
  },
  {
   "cell_type": "code",
   "execution_count": null,
   "id": "80b75f8e-8e6f-424d-af51-8d0888d00e6f",
   "metadata": {},
   "outputs": [],
   "source": [
    "from sklearn.linear_model import LinearRegression\n",
    "lg = LinearRegression()"
   ]
  },
  {
   "cell_type": "code",
   "execution_count": null,
   "id": "22e11536-6b73-4d9a-a4f7-8043a61be91a",
   "metadata": {},
   "outputs": [],
   "source": [
    "lg.fit(x_train, y_train)"
   ]
  },
  {
   "cell_type": "code",
   "execution_count": null,
   "id": "b3a99289-bc80-4fa0-866a-f4cfe5561793",
   "metadata": {},
   "outputs": [],
   "source": [
    "y_pred = lg.predict(x_test)"
   ]
  },
  {
   "cell_type": "code",
   "execution_count": null,
   "id": "ba322d58-68de-4e28-9a64-332a2107a576",
   "metadata": {},
   "outputs": [],
   "source": [
    "from sklearn.metrics import r2_score\n",
    "\n",
    "r2_score = r2_score(y_test, y_pred)\n",
    "\n",
    "print(r2_score)"
   ]
  },
  {
   "cell_type": "code",
   "execution_count": null,
   "id": "528b9713-cf35-4cf0-ae1a-620b963477a9",
   "metadata": {},
   "outputs": [],
   "source": [
    "from sklearn.model_selection import RandomizedSearchCV"
   ]
  },
  {
   "cell_type": "code",
   "execution_count": null,
   "id": "5c6d50fc-5f45-470b-8ee5-680bb39d15fb",
   "metadata": {},
   "outputs": [],
   "source": [
    "param_space = {'copy_X': [True,False], \n",
    "               'fit_intercept': [True,False], \n",
    "               'n_jobs': [1,5,10,15,None], \n",
    "               'positive': [True,False]}\n",
    "\n",
    "random_search = RandomizedSearchCV(lg, param_space, n_iter=100, cv=5)\n",
    "random_search.fit(x_train, y_train)\n",
    "\n",
    "# Parameter which gives the best results\n",
    "print(f\"Best Hyperparameters: {random_search.best_params_}\")\n",
    "\n",
    "# Accuracy of the model after using best parameters\n",
    "print(f\"Best Score: {random_search.best_score_}\")"
   ]
  },
  {
   "cell_type": "code",
   "execution_count": null,
   "id": "9c1185a3-d2d2-48b0-9789-ae0f5670a50b",
   "metadata": {},
   "outputs": [],
   "source": []
  },
  {
   "cell_type": "code",
   "execution_count": null,
   "id": "2102e34d-702f-47e2-b266-9f8989798cd7",
   "metadata": {},
   "outputs": [],
   "source": []
  }
 ],
 "metadata": {
  "kernelspec": {
   "display_name": "Python [conda env:base] *",
   "language": "python",
   "name": "conda-base-py"
  },
  "language_info": {
   "codemirror_mode": {
    "name": "ipython",
    "version": 3
   },
   "file_extension": ".py",
   "mimetype": "text/x-python",
   "name": "python",
   "nbconvert_exporter": "python",
   "pygments_lexer": "ipython3",
   "version": "3.12.7"
  }
 },
 "nbformat": 4,
 "nbformat_minor": 5
}
